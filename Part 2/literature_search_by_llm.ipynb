{
 "cells": [
  {
   "cell_type": "markdown",
   "id": "c7aafb59",
   "metadata": {},
   "source": [
    "# Perform an LLM-assisted literature search of top 20 genes"
   ]
  },
  {
   "cell_type": "code",
   "execution_count": null,
   "id": "ab71b2f7",
   "metadata": {},
   "outputs": [],
   "source": [
    "# Import needed libraries\n",
    "from google import genai\n",
    "import pandas as pd\n",
    "import json\n",
    "import os"
   ]
  },
  {
   "cell_type": "code",
   "execution_count": null,
   "id": "dd08dcc1",
   "metadata": {},
   "outputs": [],
   "source": [
    "# Set up Gemini API environment\n",
    "GEMINI_API_KEY = os.getenv(\"GEMINI_API_KEY\") # Retrieve API key from environment variable\n",
    "\n",
    "client = genai.Client(api_key=GEMINI_API_KEY)"
   ]
  },
  {
   "cell_type": "code",
   "execution_count": null,
   "id": "1d7630b4",
   "metadata": {},
   "outputs": [],
   "source": [
    "# Define the list of genes of interest from Zimmerome chromosome 22 (see part 1)\n",
    "genes = []"
   ]
  },
  {
   "cell_type": "code",
   "execution_count": null,
   "id": "728e1213",
   "metadata": {},
   "outputs": [],
   "source": [
    "# Construct the literature search prompt\n",
    "user_prompt = \"\"\"\n",
    "You are a biologist interested in the genes on chromosome 22.\n",
    "Given the following list of genes, please provide a summary of the literature related to each gene.\n",
    "The summary should include the gene's function, any known associations with diseases, and any other relevant information.\n",
    "The genes of interest are:\n",
    "\"\"\""
   ]
  },
  {
   "cell_type": "code",
   "execution_count": null,
   "id": "f5306cad",
   "metadata": {},
   "outputs": [],
   "source": [
    "# Define the response object\n",
    "response = client.models.generate_content(\n",
    "    model=\"gemini-2.5-pro\",\n",
    "    prompt=\"Generate a list of 10 popular tourist attractions in Paris, France.\",\n",
    "    max_output_tokens=500,\n",
    "    temperature=0,\n",
    "    contents=user_prompt + \"\\n\".join(genes),\n",
    ")"
   ]
  },
  {
   "cell_type": "code",
   "execution_count": null,
   "id": "7771903a",
   "metadata": {},
   "outputs": [],
   "source": [
    "# Extract the response\n",
    "response_text = response.text"
   ]
  }
 ],
 "metadata": {
  "kernelspec": {
   "display_name": "mh-eval",
   "language": "python",
   "name": "python3"
  },
  "language_info": {
   "name": "python",
   "version": "3.13.1"
  }
 },
 "nbformat": 4,
 "nbformat_minor": 5
}
